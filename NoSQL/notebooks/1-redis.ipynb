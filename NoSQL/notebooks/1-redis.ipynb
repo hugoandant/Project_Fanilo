{
 "cells": [
  {
   "cell_type": "markdown",
   "metadata": {},
   "source": [
    "# Redis tutorial"
   ]
  },
  {
   "cell_type": "markdown",
   "metadata": {},
   "source": [
    "## Prerequisites"
   ]
  },
  {
   "cell_type": "markdown",
   "metadata": {},
   "source": [
    "### Documentation\n",
    "\n",
    "You will find all documentation for :\n",
    "* [Redis commands](https://redis.io/commands)\n",
    "* [Redis python client](https://redis-py.readthedocs.io/en/latest/)\n",
    "\n",
    "Though the tutorial asks you to use Redis commands, they all have an equivalent in the Python client library."
   ]
  },
  {
   "cell_type": "markdown",
   "metadata": {},
   "source": [
    "### Import libraries"
   ]
  },
  {
   "cell_type": "code",
   "execution_count": 2,
   "metadata": {},
   "outputs": [
    {
     "name": "stdout",
     "output_type": "stream",
     "text": [
      "Collecting redis\n",
      "  Downloading redis-5.0.1-py3-none-any.whl.metadata (8.9 kB)\n",
      "Downloading redis-5.0.1-py3-none-any.whl (250 kB)\n",
      "\u001b[2K   \u001b[90m━━━━━━━━━━━━━━━━━━━━━━━━━━━━━━━━━━━━━━━━\u001b[0m \u001b[32m250.3/250.3 kB\u001b[0m \u001b[31m7.4 MB/s\u001b[0m eta \u001b[36m0:00:00\u001b[0m\n",
      "\u001b[?25hInstalling collected packages: redis\n",
      "Successfully installed redis-5.0.1\n"
     ]
    }
   ],
   "source": [
    "!pip install redis"
   ]
  },
  {
   "cell_type": "code",
   "execution_count": 3,
   "metadata": {},
   "outputs": [],
   "source": [
    "import redis"
   ]
  },
  {
   "cell_type": "code",
   "execution_count": 4,
   "metadata": {},
   "outputs": [],
   "source": [
    "r = redis.Redis(host='redis', port=6379)"
   ]
  },
  {
   "cell_type": "code",
   "execution_count": 5,
   "metadata": {},
   "outputs": [
    {
     "name": "stdout",
     "output_type": "stream",
     "text": [
      "b'bar'\n"
     ]
    }
   ],
   "source": [
    "r.set('foo', 'bar')\n",
    "value = r.get('foo')\n",
    "print(value)"
   ]
  },
  {
   "cell_type": "markdown",
   "metadata": {},
   "source": [
    "You can launch a terminal aside, connect to your server with a Redis client and check that the value is still present :\n",
    "\n",
    "```bash\n",
    "vagrant@nosql:~$ redis-cli\n",
    "127.0.0.1:6379> get foo\n",
    "\"bar\"\n",
    "```"
   ]
  },
  {
   "cell_type": "markdown",
   "metadata": {},
   "source": [
    "## I. Quick start"
   ]
  },
  {
   "cell_type": "markdown",
   "metadata": {},
   "source": [
    "### Strings and numbers"
   ]
  },
  {
   "cell_type": "markdown",
   "metadata": {},
   "source": [
    "**Q** : Store the string `hello world` in key `greetings` with a `SET` command. Then use a `GET` command to retrieve it."
   ]
  },
  {
   "cell_type": "code",
   "execution_count": 6,
   "metadata": {},
   "outputs": [
    {
     "name": "stdout",
     "output_type": "stream",
     "text": [
      "b'hello world'\n"
     ]
    }
   ],
   "source": [
    "r.set('greetings' , 'hello world')\n",
    "value = r.get('greetings')\n",
    "print(value)"
   ]
  },
  {
   "cell_type": "markdown",
   "metadata": {},
   "source": [
    "**Q** : Create a `connections` key with value 0. Find the `INCR` command to increment its value, then display it. \n",
    "\n",
    "Try to increment the value for `greetings`."
   ]
  },
  {
   "cell_type": "code",
   "execution_count": 9,
   "metadata": {},
   "outputs": [
    {
     "name": "stdout",
     "output_type": "stream",
     "text": [
      "1\n"
     ]
    }
   ],
   "source": [
    "r.set('connection', '0')\n",
    "n_value = r.incr('connection')\n",
    "print(n_value)"
   ]
  },
  {
   "cell_type": "markdown",
   "metadata": {},
   "source": [
    "### Lists"
   ]
  },
  {
   "cell_type": "markdown",
   "metadata": {},
   "source": [
    "**Q** : Create a `colors` list with strings `red`, `black` and `blue`, using the `RPUSH` command."
   ]
  },
  {
   "cell_type": "code",
   "execution_count": 10,
   "metadata": {},
   "outputs": [
    {
     "data": {
      "text/plain": [
       "3"
      ]
     },
     "execution_count": 10,
     "metadata": {},
     "output_type": "execute_result"
    }
   ],
   "source": [
    "r.rpush(\"colors\", 'red', 'black','blue')"
   ]
  },
  {
   "cell_type": "markdown",
   "metadata": {},
   "source": [
    "**Q** : Display the second element of the list with `LINDEX`"
   ]
  },
  {
   "cell_type": "code",
   "execution_count": 13,
   "metadata": {},
   "outputs": [
    {
     "name": "stdout",
     "output_type": "stream",
     "text": [
      "b'black'\n"
     ]
    }
   ],
   "source": [
    "print(r.lindex(\"colors\", 1))"
   ]
  },
  {
   "cell_type": "markdown",
   "metadata": {},
   "source": [
    "**Q** : Display the full list with `LRANGE`"
   ]
  },
  {
   "cell_type": "code",
   "execution_count": 17,
   "metadata": {},
   "outputs": [
    {
     "name": "stdout",
     "output_type": "stream",
     "text": [
      "[b'red', b'black', b'blue']\n"
     ]
    }
   ],
   "source": [
    "print(r.lrange(\"colors\", 0, 2))"
   ]
  },
  {
   "cell_type": "markdown",
   "metadata": {},
   "source": [
    "### Using sets"
   ]
  },
  {
   "cell_type": "markdown",
   "metadata": {},
   "source": [
    "**Q** : Create a `nosql` set containing values `redis`, `mongodb` and `orientdb`, using the `SADD` command."
   ]
  },
  {
   "cell_type": "code",
   "execution_count": 18,
   "metadata": {},
   "outputs": [
    {
     "data": {
      "text/plain": [
       "3"
      ]
     },
     "execution_count": 18,
     "metadata": {},
     "output_type": "execute_result"
    }
   ],
   "source": [
    "nosql = ['redis', 'mongodb', 'orientdb']\n",
    "r.sadd('nosql', *nosql)"
   ]
  },
  {
   "cell_type": "markdown",
   "metadata": {},
   "source": [
    "**Q** : Test if `mysql` is inside the set, using `SISMEMBER`"
   ]
  },
  {
   "cell_type": "code",
   "execution_count": 21,
   "metadata": {},
   "outputs": [
    {
     "data": {
      "text/plain": [
       "0"
      ]
     },
     "execution_count": 21,
     "metadata": {},
     "output_type": "execute_result"
    }
   ],
   "source": [
    "r.sismember('nosql', 'mysql')"
   ]
  },
  {
   "cell_type": "markdown",
   "metadata": {},
   "source": [
    "**Q** : Add `hbase` to the set with `SADD`, then display all elements of the set with `SMEMBERS`. Try to add `redis` again and see what happens."
   ]
  },
  {
   "cell_type": "code",
   "execution_count": 24,
   "metadata": {},
   "outputs": [
    {
     "name": "stdout",
     "output_type": "stream",
     "text": [
      "{b'mongodb', b'orientdb', b'redis', b'hbase'}\n"
     ]
    },
    {
     "data": {
      "text/plain": [
       "0"
      ]
     },
     "execution_count": 24,
     "metadata": {},
     "output_type": "execute_result"
    }
   ],
   "source": [
    "r.sadd('nosql', 'hbase')\n",
    "value = r.smembers('nosql')\n",
    "print(value)\n",
    "r.sadd('nosql', 'redis')"
   ]
  },
  {
   "cell_type": "markdown",
   "metadata": {},
   "source": [
    "### Using sorted sets\n",
    "\n",
    "Sorted Sets are similar to Redis Sets with the unique feature of values stored in a set. The difference is, every member of a Sorted Set is associated with a score, that is used in order to take the sorted set ordered, from the smallest to the greatest score."
   ]
  },
  {
   "cell_type": "markdown",
   "metadata": {},
   "source": [
    "**Q** : Using `ZADD`, create a sorted set `top14` with the following entries :\n",
    "\n",
    "```\n",
    "score city\n",
    "10 Agen \n",
    "33 Bordeaux \n",
    "32 Brive \n",
    "29 Castres \n",
    "38 Clermont \n",
    "24 Grenoble \n",
    "26 La Rochelle \n",
    "32 Montpellier \n",
    "14 Oyonnax \n",
    "20 Pau \n",
    "40 Racing \n",
    "22 Stade Français \n",
    "36 Toulon \n",
    "36 Toulouse\n",
    "```"
   ]
  },
  {
   "cell_type": "code",
   "execution_count": 25,
   "metadata": {},
   "outputs": [
    {
     "data": {
      "text/plain": [
       "13"
      ]
     },
     "execution_count": 25,
     "metadata": {},
     "output_type": "execute_result"
    }
   ],
   "source": [
    "r.zadd('top14', {'Agen' : 10, 'Bordeaux' : 33, 'Brive' : 32, 'Castres' : 29, 'Clermont' : 38, 'La Rochelle' : 26, 'Montpellier' : 32, 'Oyonnax' : 14, 'Pau' : 14, 'Racing' : 40, 'Stade Français' : 22, 'Toulon' : 36, 'Toulouse' : 36}) "
   ]
  },
  {
   "cell_type": "markdown",
   "metadata": {},
   "source": [
    "**Q** : Fetch the score for `Toulon` with `ZSCORE`, and its ranking with `ZRANK`."
   ]
  },
  {
   "cell_type": "code",
   "execution_count": 27,
   "metadata": {},
   "outputs": [
    {
     "name": "stdout",
     "output_type": "stream",
     "text": [
      "36.0\n",
      "9\n"
     ]
    }
   ],
   "source": [
    "score = r.zscore('top14', 'Toulon')\n",
    "print(score)\n",
    "pos = r.zrank('top14', 'Toulon')\n",
    "print(pos)"
   ]
  },
  {
   "cell_type": "markdown",
   "metadata": {},
   "source": [
    "**Q** : `ZRANK` starts at 0 and scores are sorted from lowest to highest, so we should use the `ZREVRANK` for a true ranking of our cities."
   ]
  },
  {
   "cell_type": "code",
   "execution_count": 28,
   "metadata": {},
   "outputs": [
    {
     "data": {
      "text/plain": [
       "3"
      ]
     },
     "execution_count": 28,
     "metadata": {},
     "output_type": "execute_result"
    }
   ],
   "source": [
    "r.zrevrank('top14', 'Toulon')"
   ]
  },
  {
   "cell_type": "markdown",
   "metadata": {},
   "source": [
    "**Q** : Find the commands to display :\n",
    "* the 3 best teams\n",
    "* teams with more than 35 points"
   ]
  },
  {
   "cell_type": "code",
   "execution_count": 31,
   "metadata": {},
   "outputs": [
    {
     "name": "stdout",
     "output_type": "stream",
     "text": [
      "[(b'Racing', 40.0), (b'Clermont', 38.0), (b'Toulouse', 36.0)]\n"
     ]
    },
    {
     "data": {
      "text/plain": [
       "[b'Toulon', b'Toulouse', b'Clermont', b'Racing']"
      ]
     },
     "execution_count": 31,
     "metadata": {},
     "output_type": "execute_result"
    }
   ],
   "source": [
    "top3 = r.zrevrange('top14', 0, 3 - 1, withscores=True)\n",
    "print(top3)\n",
    "ov35 = r.zrangebyscore('top14', 35, '+inf')\n",
    "ov35"
   ]
  },
  {
   "cell_type": "markdown",
   "metadata": {},
   "source": [
    "### Using dictionaries"
   ]
  },
  {
   "cell_type": "markdown",
   "metadata": {},
   "source": [
    "**Q** : Create a dictionary `user:1` with `HMSET` with properties `id (1), name (Jean), age (22)`. Display it with `HGETALL`"
   ]
  },
  {
   "cell_type": "code",
   "execution_count": 32,
   "metadata": {},
   "outputs": [
    {
     "name": "stderr",
     "output_type": "stream",
     "text": [
      "/tmp/ipykernel_114/2562570764.py:1: DeprecationWarning: Redis.hmset() is deprecated. Use Redis.hset() instead.\n",
      "  r.hmset('user:1', {'id' : 1, 'name' : 'Jean', 'age' : 22})\n"
     ]
    },
    {
     "data": {
      "text/plain": [
       "{b'id': b'1', b'name': b'Jean', b'age': b'22'}"
      ]
     },
     "execution_count": 32,
     "metadata": {},
     "output_type": "execute_result"
    }
   ],
   "source": [
    "r.hmset('user:1', {'id' : 1, 'name' : 'Jean', 'age' : 22})\n",
    "r.hgetall('user:1')"
   ]
  },
  {
   "cell_type": "markdown",
   "metadata": {},
   "source": [
    "**Q** : Add a `city (Lyon)` property and rename the user from `Jean` to `Paul`."
   ]
  },
  {
   "cell_type": "code",
   "execution_count": 45,
   "metadata": {},
   "outputs": [
    {
     "data": {
      "text/plain": [
       "{b'id': b'1', b'name': b'Paul', b'age': b'22', b'city': b'Lyon'}"
      ]
     },
     "execution_count": 45,
     "metadata": {},
     "output_type": "execute_result"
    }
   ],
   "source": [
    "r.hset('user:1', 'city', 'Lyon')\n",
    "r.hset('user:1', 'name', 'Paul')\n",
    "r.hgetall('user:1')"
   ]
  },
  {
   "cell_type": "markdown",
   "metadata": {},
   "source": [
    "## Modelling a query cache with Redis\n",
    "\n",
    "You are modeling data from a REST query cache system with Redis.\n",
    "A request is identified by the http method and its url (without the protocol).\n",
    "The content of the request is stored as it is to be returned on demand."
   ]
  },
  {
   "cell_type": "markdown",
   "metadata": {},
   "source": [
    "**Q** : Insert a PUT request in the cache on http://my-api.fr/user/10 whose answer is {\"id\": 10, \"name\": \"jean\"}"
   ]
  },
  {
   "cell_type": "code",
   "execution_count": 49,
   "metadata": {},
   "outputs": [
    {
     "data": {
      "text/plain": [
       "1"
      ]
     },
     "execution_count": 49,
     "metadata": {},
     "output_type": "execute_result"
    }
   ],
   "source": [
    "import json\n",
    "\n",
    "http_method = 'PUT'\n",
    "url = 'my-api.fr/user/10'  # The URL without the protocol\n",
    "\n",
    "put_request_content = {\"id\": 10, \"name\": \"Jean\"}\n",
    "\n",
    "json_data = json.dumps(put_request_content)\n",
    "\n",
    "r.hset(http_method, url, json_data)"
   ]
  },
  {
   "cell_type": "markdown",
   "metadata": {},
   "source": [
    "**Q** : Insert a GET request in the cache on http://my-api.fr/user?size=2 whose answer is[{\"id\": 10, \"name\": jean}, {\"id\": 11, \"name\": \"Claire\"}]"
   ]
  },
  {
   "cell_type": "code",
   "execution_count": 50,
   "metadata": {},
   "outputs": [
    {
     "data": {
      "text/plain": [
       "1"
      ]
     },
     "execution_count": 50,
     "metadata": {},
     "output_type": "execute_result"
    }
   ],
   "source": [
    "\n",
    "# HTTP method and URL for the GET request\n",
    "http_method = 'GET'\n",
    "url = 'my-api.fr/user?size=2'  # The URL without the protocol\n",
    "\n",
    "# Content of the GET request\n",
    "get_request_content = [\n",
    "    {\"id\": 10, \"name\": \"Jean\"},\n",
    "    {\"id\": 11, \"name\": \"Claire\"}\n",
    "]\n",
    "\n",
    "# Convert the content to a JSON string\n",
    "json_data = json.dumps(get_request_content)\n",
    "\n",
    "# Use HSET to store the request information in a Redis hash\n",
    "r.hset(http_method, url, json_data)"
   ]
  },
  {
   "cell_type": "markdown",
   "metadata": {},
   "source": [
    "**Q** : Create a set of cache request keys."
   ]
  },
  {
   "cell_type": "code",
   "execution_count": 52,
   "metadata": {},
   "outputs": [],
   "source": [
    "cache_request_keys = [\n",
    "    ('GET', 'my-api.fr/user?size=2'),\n",
    "    ('PUT', 'my-api.fr/user/10'),\n",
    "    # Add more keys as needed\n",
    "]\n",
    "\n",
    "cache_request_set = 'cache_request_keys'\n",
    "\n",
    "for method, url in cache_request_keys:\n",
    "    r.sadd(cache_request_set, f'{method} {url}')\n"
   ]
  },
  {
   "cell_type": "markdown",
   "metadata": {},
   "source": [
    "**Q** : Check if the GET request on http: //http://my-api.fr/user"
   ]
  },
  {
   "cell_type": "code",
   "execution_count": 51,
   "metadata": {},
   "outputs": [
    {
     "name": "stdout",
     "output_type": "stream",
     "text": [
      "Data stored for GET my-api.fr/user?size=2: b'[{\"id\": 10, \"name\": \"Jean\"}, {\"id\": 11, \"name\": \"Claire\"}]'\n"
     ]
    }
   ],
   "source": [
    "stored_data = r.hget(http_method, url)\n",
    "print(f\"Data stored for {http_method} {url}: {stored_data}\")"
   ]
  },
  {
   "cell_type": "markdown",
   "metadata": {},
   "source": [
    "**Q** : Delete the PUT request on http://my-api.fr/user/10 from the cache."
   ]
  },
  {
   "cell_type": "code",
   "execution_count": 55,
   "metadata": {},
   "outputs": [
    {
     "name": "stdout",
     "output_type": "stream",
     "text": [
      "Updated Cache request keys: {b'GET my-api.fr/user?size=2'}\n"
     ]
    }
   ],
   "source": [
    "http_method = 'PUT'\n",
    "url = 'my-api.fr/user/10'\n",
    "\n",
    "cache_request_set = 'cache_request_keys'\n",
    "\n",
    "r.hdel(http_method, url)\n",
    "\n",
    "r.srem(cache_request_set, f'{http_method} {url}')\n",
    "\n",
    "cached_keys = r.smembers(cache_request_set)\n",
    "print(f\"Updated Cache request keys: {cached_keys}\")"
   ]
  },
  {
   "cell_type": "markdown",
   "metadata": {},
   "source": [
    "## Postquisites\n",
    "\n",
    "The folloinwg command removes all data from your Redis cluster."
   ]
  },
  {
   "cell_type": "code",
   "execution_count": 56,
   "metadata": {},
   "outputs": [
    {
     "name": "stdout",
     "output_type": "stream",
     "text": [
      "/bin/bash: line 1: redis-cli: command not found\n"
     ]
    }
   ],
   "source": [
    "!redis-cli flushall"
   ]
  }
 ],
 "metadata": {
  "kernelspec": {
   "display_name": "Python 3 (ipykernel)",
   "language": "python",
   "name": "python3"
  },
  "language_info": {
   "codemirror_mode": {
    "name": "ipython",
    "version": 3
   },
   "file_extension": ".py",
   "mimetype": "text/x-python",
   "name": "python",
   "nbconvert_exporter": "python",
   "pygments_lexer": "ipython3",
   "version": "3.11.7"
  }
 },
 "nbformat": 4,
 "nbformat_minor": 4
}
