{
 "cells": [
  {
   "cell_type": "markdown",
   "metadata": {},
   "source": [
    "# OrientDB tutorial"
   ]
  },
  {
   "cell_type": "markdown",
   "metadata": {},
   "source": [
    "## Prerequisites"
   ]
  },
  {
   "cell_type": "markdown",
   "metadata": {},
   "source": [
    "### Documentation\n",
    "\n",
    "You will find all documentation for :\n",
    "* [OrientDB SQL reference](http://www.orientdb.com/docs/last/SQL-Functions.html)\n",
    "* [Orientdb python client](http://orientdb.com/docs/last/PyOrient-Client.html#working-with-the-client)"
   ]
  },
  {
   "cell_type": "markdown",
   "metadata": {},
   "source": [
    "## Import libraries"
   ]
  },
  {
   "cell_type": "code",
   "execution_count": 2,
   "metadata": {},
   "outputs": [
    {
     "name": "stdout",
     "output_type": "stream",
     "text": [
      "Collecting pyorient\n",
      "  Downloading pyorient-1.5.5.tar.gz (68 kB)\n",
      "\u001b[2K     \u001b[90m━━━━━━━━━━━━━━━━━━━━━━━━━━━━━━━━━━━━━━━━\u001b[0m \u001b[32m69.0/69.0 kB\u001b[0m \u001b[31m2.5 MB/s\u001b[0m eta \u001b[36m0:00:00\u001b[0m\n",
      "\u001b[?25h  Preparing metadata (setup.py) ... \u001b[?25ldone\n",
      "\u001b[?25hBuilding wheels for collected packages: pyorient\n",
      "  Building wheel for pyorient (setup.py) ... \u001b[?25ldone\n",
      "\u001b[?25h  Created wheel for pyorient: filename=pyorient-1.5.5-py3-none-any.whl size=79022 sha256=22dddb21f45d2b2a0e97a07b0e80ea60bf07591dd0bfbd9c6beefa60cf9561db\n",
      "  Stored in directory: /home/jovyan/.cache/pip/wheels/a3/08/60/10d34e8571e6eb7c98ccbeff65f2d4e220d89d568f31bf88d4\n",
      "Successfully built pyorient\n",
      "Installing collected packages: pyorient\n",
      "Successfully installed pyorient-1.5.5\n"
     ]
    }
   ],
   "source": [
    "!pip install pyorient"
   ]
  },
  {
   "cell_type": "code",
   "execution_count": 3,
   "metadata": {},
   "outputs": [],
   "source": [
    "import pyorient"
   ]
  },
  {
   "cell_type": "code",
   "execution_count": 4,
   "metadata": {},
   "outputs": [],
   "source": [
    "ROOT_PASSWORD = \"root\"\n",
    "client = pyorient.OrientDB(\"orientdb\", 2424)\n",
    "session_id = client.connect(\"root\", ROOT_PASSWORD)"
   ]
  },
  {
   "cell_type": "code",
   "execution_count": 5,
   "metadata": {},
   "outputs": [
    {
     "name": "stdout",
     "output_type": "stream",
     "text": [
      "{{'databases': {'gods': 'memory:gods'}}}\n"
     ]
    }
   ],
   "source": [
    "print(client.db_list())"
   ]
  },
  {
   "cell_type": "markdown",
   "metadata": {},
   "source": [
    "## I. Quick start"
   ]
  },
  {
   "cell_type": "markdown",
   "metadata": {},
   "source": [
    "### Creating the database"
   ]
  },
  {
   "cell_type": "markdown",
   "metadata": {},
   "source": [
    "**Q:** Create a database `gods` as a `GRAPH_DATABASE` in `MEMORY_STORAGE_TYPE`. \n",
    "\n",
    "We will use it to store relationships between Greek deities."
   ]
  },
  {
   "cell_type": "code",
   "execution_count": 7,
   "metadata": {},
   "outputs": [],
   "source": [
    "db_name = \"gods\"\n",
    "db_type = pyorient.DB_TYPE_GRAPH\n",
    "storage_type = pyorient.STORAGE_TYPE_MEMORY"
   ]
  },
  {
   "cell_type": "code",
   "execution_count": null,
   "metadata": {},
   "outputs": [],
   "source": [
    "client.db_create(db_name, db_type, storage_type)"
   ]
  },
  {
   "cell_type": "markdown",
   "metadata": {},
   "source": [
    "**Q:** Connect your pyorient client to the `gods` database."
   ]
  },
  {
   "cell_type": "code",
   "execution_count": 8,
   "metadata": {},
   "outputs": [
    {
     "data": {
      "text/plain": [
       "[<pyorient.otypes.OrientCluster at 0x7f17c631ecd0>,\n",
       " <pyorient.otypes.OrientCluster at 0x7f17c633e110>,\n",
       " <pyorient.otypes.OrientCluster at 0x7f17c631f090>,\n",
       " <pyorient.otypes.OrientCluster at 0x7f17c64a29d0>,\n",
       " <pyorient.otypes.OrientCluster at 0x7f17c64a7910>,\n",
       " <pyorient.otypes.OrientCluster at 0x7f17c636d990>,\n",
       " <pyorient.otypes.OrientCluster at 0x7f17c636fb90>,\n",
       " <pyorient.otypes.OrientCluster at 0x7f17c636dad0>,\n",
       " <pyorient.otypes.OrientCluster at 0x7f17c636db10>,\n",
       " <pyorient.otypes.OrientCluster at 0x7f17e021e990>,\n",
       " <pyorient.otypes.OrientCluster at 0x7f17c636db90>,\n",
       " <pyorient.otypes.OrientCluster at 0x7f17c636da50>,\n",
       " <pyorient.otypes.OrientCluster at 0x7f17c636e250>,\n",
       " <pyorient.otypes.OrientCluster at 0x7f17c636e510>,\n",
       " <pyorient.otypes.OrientCluster at 0x7f17c636e790>,\n",
       " <pyorient.otypes.OrientCluster at 0x7f17c636e450>,\n",
       " <pyorient.otypes.OrientCluster at 0x7f17c636e890>,\n",
       " <pyorient.otypes.OrientCluster at 0x7f17c636e7d0>,\n",
       " <pyorient.otypes.OrientCluster at 0x7f17c636e910>,\n",
       " <pyorient.otypes.OrientCluster at 0x7f17c636e990>,\n",
       " <pyorient.otypes.OrientCluster at 0x7f17c636ea50>,\n",
       " <pyorient.otypes.OrientCluster at 0x7f17c636eb10>,\n",
       " <pyorient.otypes.OrientCluster at 0x7f17c636ebd0>,\n",
       " <pyorient.otypes.OrientCluster at 0x7f17c636e410>,\n",
       " <pyorient.otypes.OrientCluster at 0x7f17c636ea90>,\n",
       " <pyorient.otypes.OrientCluster at 0x7f17c636ec10>,\n",
       " <pyorient.otypes.OrientCluster at 0x7f17c636f110>,\n",
       " <pyorient.otypes.OrientCluster at 0x7f17c636ec90>,\n",
       " <pyorient.otypes.OrientCluster at 0x7f17c636ec50>,\n",
       " <pyorient.otypes.OrientCluster at 0x7f17c636ecd0>,\n",
       " <pyorient.otypes.OrientCluster at 0x7f17c636e5d0>,\n",
       " <pyorient.otypes.OrientCluster at 0x7f17c636efd0>,\n",
       " <pyorient.otypes.OrientCluster at 0x7f17c636edd0>,\n",
       " <pyorient.otypes.OrientCluster at 0x7f17c636f090>,\n",
       " <pyorient.otypes.OrientCluster at 0x7f17c636e850>,\n",
       " <pyorient.otypes.OrientCluster at 0x7f17c636e3d0>,\n",
       " <pyorient.otypes.OrientCluster at 0x7f17c636ef50>,\n",
       " <pyorient.otypes.OrientCluster at 0x7f17c636eed0>,\n",
       " <pyorient.otypes.OrientCluster at 0x7f17c636f050>,\n",
       " <pyorient.otypes.OrientCluster at 0x7f17c636f210>,\n",
       " <pyorient.otypes.OrientCluster at 0x7f17c636f410>,\n",
       " <pyorient.otypes.OrientCluster at 0x7f17c636f350>,\n",
       " <pyorient.otypes.OrientCluster at 0x7f17c636f450>,\n",
       " <pyorient.otypes.OrientCluster at 0x7f17c636f390>,\n",
       " <pyorient.otypes.OrientCluster at 0x7f17c636f610>,\n",
       " <pyorient.otypes.OrientCluster at 0x7f17c636f4d0>,\n",
       " <pyorient.otypes.OrientCluster at 0x7f17c636f550>,\n",
       " <pyorient.otypes.OrientCluster at 0x7f17c636f310>,\n",
       " <pyorient.otypes.OrientCluster at 0x7f17c636f5d0>,\n",
       " <pyorient.otypes.OrientCluster at 0x7f17c636f650>,\n",
       " <pyorient.otypes.OrientCluster at 0x7f17c636f690>,\n",
       " <pyorient.otypes.OrientCluster at 0x7f17c636f6d0>,\n",
       " <pyorient.otypes.OrientCluster at 0x7f17c636f710>,\n",
       " <pyorient.otypes.OrientCluster at 0x7f17c636f750>,\n",
       " <pyorient.otypes.OrientCluster at 0x7f17c636f790>,\n",
       " <pyorient.otypes.OrientCluster at 0x7f17c636f7d0>,\n",
       " <pyorient.otypes.OrientCluster at 0x7f17c636f150>]"
      ]
     },
     "execution_count": 8,
     "metadata": {},
     "output_type": "execute_result"
    }
   ],
   "source": [
    "client.db_open(db_name, \"root\", ROOT_PASSWORD)"
   ]
  },
  {
   "cell_type": "markdown",
   "metadata": {},
   "source": [
    "**Q:** You should now be able to launch OrientDB queries through the Python client with the [command()](http://orientdb.com/docs/last/PyOrient-Client-Command.html) function. \n",
    "\n",
    "You should think of OrientDB as a Graph-Document database for the following questions. Each vertex and edge will contain information on it inside a JSON document.\n",
    "\n",
    "Create a new Vertex with content `{name: 'Zeus', symbol: 'thunder'}`. The [CREATE VERTEX : Create a vertex using JSON content](http://orientdb.com/docs/last/SQL-Create-Vertex.html) doc page should help you."
   ]
  },
  {
   "cell_type": "code",
   "execution_count": 6,
   "metadata": {},
   "outputs": [
    {
     "ename": "PyOrientSchemaException",
     "evalue": "com.orientechnologies.orient.core.exception.OSchemaException - Class 'Greekdeities' already exists in current database\r\n\tDB name=\"gods\"",
     "output_type": "error",
     "traceback": [
      "\u001b[0;31m---------------------------------------------------------------------------\u001b[0m",
      "\u001b[0;31mPyOrientSchemaException\u001b[0m                   Traceback (most recent call last)",
      "Cell \u001b[0;32mIn[6], line 1\u001b[0m\n\u001b[0;32m----> 1\u001b[0m \u001b[43mclient\u001b[49m\u001b[38;5;241;43m.\u001b[39;49m\u001b[43mcommand\u001b[49m\u001b[43m(\u001b[49m\u001b[38;5;124;43m\"\u001b[39;49m\u001b[38;5;124;43mCREATE CLASS Greekdeities EXTENDS V\u001b[39;49m\u001b[38;5;124;43m\"\u001b[39;49m\u001b[43m)\u001b[49m\n",
      "File \u001b[0;32m/opt/conda/lib/python3.11/site-packages/pyorient/orient.py:462\u001b[0m, in \u001b[0;36mOrientDB.command\u001b[0;34m(self, *args)\u001b[0m\n\u001b[1;32m    460\u001b[0m \u001b[38;5;28;01mdef\u001b[39;00m \u001b[38;5;21mcommand\u001b[39m(\u001b[38;5;28mself\u001b[39m, \u001b[38;5;241m*\u001b[39margs):\n\u001b[1;32m    461\u001b[0m     \u001b[38;5;28;01mreturn\u001b[39;00m \u001b[38;5;28;43mself\u001b[39;49m\u001b[38;5;241;43m.\u001b[39;49m\u001b[43mget_message\u001b[49m\u001b[43m(\u001b[49m\u001b[38;5;124;43m\"\u001b[39;49m\u001b[38;5;124;43mCommandMessage\u001b[39;49m\u001b[38;5;124;43m\"\u001b[39;49m\u001b[43m)\u001b[49m\u001b[43m \u001b[49m\u001b[43m\\\u001b[49m\n\u001b[0;32m--> 462\u001b[0m \u001b[43m        \u001b[49m\u001b[38;5;241;43m.\u001b[39;49m\u001b[43mprepare\u001b[49m\u001b[43m(\u001b[49m\u001b[43m(\u001b[49m\u001b[43m \u001b[49m\u001b[43mQUERY_CMD\u001b[49m\u001b[43m,\u001b[49m\u001b[43m \u001b[49m\u001b[43m)\u001b[49m\u001b[43m \u001b[49m\u001b[38;5;241;43m+\u001b[39;49m\u001b[43m \u001b[49m\u001b[43margs\u001b[49m\u001b[43m)\u001b[49m\u001b[38;5;241;43m.\u001b[39;49m\u001b[43msend\u001b[49m\u001b[43m(\u001b[49m\u001b[43m)\u001b[49m\u001b[38;5;241;43m.\u001b[39;49m\u001b[43mfetch_response\u001b[49m\u001b[43m(\u001b[49m\u001b[43m)\u001b[49m\n",
      "File \u001b[0;32m/opt/conda/lib/python3.11/site-packages/pyorient/messages/commands.py:144\u001b[0m, in \u001b[0;36mCommandMessage.fetch_response\u001b[0;34m(self)\u001b[0m\n\u001b[1;32m    141\u001b[0m     \u001b[38;5;28;01mreturn\u001b[39;00m \u001b[38;5;28mself\u001b[39m\n\u001b[1;32m    143\u001b[0m \u001b[38;5;66;03m# decode header only\u001b[39;00m\n\u001b[0;32m--> 144\u001b[0m \u001b[38;5;28;43msuper\u001b[39;49m\u001b[43m(\u001b[49m\u001b[43m \u001b[49m\u001b[43mCommandMessage\u001b[49m\u001b[43m,\u001b[49m\u001b[43m \u001b[49m\u001b[38;5;28;43mself\u001b[39;49m\u001b[43m \u001b[49m\u001b[43m)\u001b[49m\u001b[38;5;241;43m.\u001b[39;49m\u001b[43mfetch_response\u001b[49m\u001b[43m(\u001b[49m\u001b[43m)\u001b[49m\n\u001b[1;32m    146\u001b[0m \u001b[38;5;28;01mif\u001b[39;00m \u001b[38;5;28mself\u001b[39m\u001b[38;5;241m.\u001b[39m_command_type \u001b[38;5;241m==\u001b[39m QUERY_ASYNC:\n\u001b[1;32m    147\u001b[0m     \u001b[38;5;28mself\u001b[39m\u001b[38;5;241m.\u001b[39m_read_async_records()\n",
      "File \u001b[0;32m/opt/conda/lib/python3.11/site-packages/pyorient/messages/base.py:265\u001b[0m, in \u001b[0;36mBaseMessage.fetch_response\u001b[0;34m(self, *_continue)\u001b[0m\n\u001b[1;32m    263\u001b[0m \u001b[38;5;66;03m# already fetched, get last results as cache info\u001b[39;00m\n\u001b[1;32m    264\u001b[0m \u001b[38;5;28;01melif\u001b[39;00m \u001b[38;5;28mlen\u001b[39m(\u001b[38;5;28mself\u001b[39m\u001b[38;5;241m.\u001b[39m_body) \u001b[38;5;129;01mis\u001b[39;00m \u001b[38;5;241m0\u001b[39m:\n\u001b[0;32m--> 265\u001b[0m     \u001b[38;5;28;43mself\u001b[39;49m\u001b[38;5;241;43m.\u001b[39;49m\u001b[43m_decode_all\u001b[49m\u001b[43m(\u001b[49m\u001b[43m)\u001b[49m\n\u001b[1;32m    266\u001b[0m     \u001b[38;5;28mself\u001b[39m\u001b[38;5;241m.\u001b[39mdump_streams()\n\u001b[1;32m    267\u001b[0m \u001b[38;5;28;01mreturn\u001b[39;00m \u001b[38;5;28mself\u001b[39m\u001b[38;5;241m.\u001b[39m_body\n",
      "File \u001b[0;32m/opt/conda/lib/python3.11/site-packages/pyorient/messages/base.py:249\u001b[0m, in \u001b[0;36mBaseMessage._decode_all\u001b[0;34m(self)\u001b[0m\n\u001b[1;32m    248\u001b[0m \u001b[38;5;28;01mdef\u001b[39;00m \u001b[38;5;21m_decode_all\u001b[39m(\u001b[38;5;28mself\u001b[39m):\n\u001b[0;32m--> 249\u001b[0m     \u001b[38;5;28;43mself\u001b[39;49m\u001b[38;5;241;43m.\u001b[39;49m\u001b[43m_decode_header\u001b[49m\u001b[43m(\u001b[49m\u001b[43m)\u001b[49m\n\u001b[1;32m    250\u001b[0m     \u001b[38;5;28mself\u001b[39m\u001b[38;5;241m.\u001b[39m_decode_body()\n",
      "File \u001b[0;32m/opt/conda/lib/python3.11/site-packages/pyorient/messages/base.py:180\u001b[0m, in \u001b[0;36mBaseMessage._decode_header\u001b[0;34m(self)\u001b[0m\n\u001b[1;32m    177\u001b[0m             \u001b[38;5;66;03m# trash\u001b[39;00m\n\u001b[1;32m    178\u001b[0m             \u001b[38;5;28;01mdel\u001b[39;00m serialized_exception\n\u001b[0;32m--> 180\u001b[0m     \u001b[38;5;28;01mraise\u001b[39;00m PyOrientCommandException(\n\u001b[1;32m    181\u001b[0m         exception_class\u001b[38;5;241m.\u001b[39mdecode( \u001b[38;5;124m'\u001b[39m\u001b[38;5;124mutf8\u001b[39m\u001b[38;5;124m'\u001b[39m ),\n\u001b[1;32m    182\u001b[0m         [ exception_message\u001b[38;5;241m.\u001b[39mdecode( \u001b[38;5;124m'\u001b[39m\u001b[38;5;124mutf8\u001b[39m\u001b[38;5;124m'\u001b[39m ) ]\n\u001b[1;32m    183\u001b[0m     )\n\u001b[1;32m    185\u001b[0m \u001b[38;5;28;01melif\u001b[39;00m \u001b[38;5;28mself\u001b[39m\u001b[38;5;241m.\u001b[39m_header[\u001b[38;5;241m0\u001b[39m] \u001b[38;5;241m==\u001b[39m \u001b[38;5;241m3\u001b[39m:\n\u001b[1;32m    186\u001b[0m     \u001b[38;5;66;03m# Push notification, Node cluster changed\u001b[39;00m\n\u001b[1;32m    187\u001b[0m     \u001b[38;5;66;03m# TODO: UNTESTED CODE!!!\u001b[39;00m\n\u001b[1;32m    188\u001b[0m     \u001b[38;5;66;03m# FIELD_BYTE (OChannelBinaryProtocol.PUSH_DATA);  # WRITE 3\u001b[39;00m\n\u001b[1;32m    189\u001b[0m     \u001b[38;5;66;03m# FIELD_INT (Integer.MIN_VALUE);  # SESSION ID = 2^-31\u001b[39;00m\n\u001b[1;32m    190\u001b[0m     \u001b[38;5;66;03m# 80: \\x50 Request Push 1 byte: Push command id\u001b[39;00m\n\u001b[1;32m    191\u001b[0m     push_command_id \u001b[38;5;241m=\u001b[39m \u001b[38;5;28mself\u001b[39m\u001b[38;5;241m.\u001b[39m_decode_field(FIELD_BYTE)\n",
      "\u001b[0;31mPyOrientSchemaException\u001b[0m: com.orientechnologies.orient.core.exception.OSchemaException - Class 'Greekdeities' already exists in current database\r\n\tDB name=\"gods\""
     ]
    }
   ],
   "source": [
    "client.command(\"CREATE CLASS Greekdeities EXTENDS V\")"
   ]
  },
  {
   "cell_type": "code",
   "execution_count": 7,
   "metadata": {},
   "outputs": [
    {
     "name": "stdout",
     "output_type": "stream",
     "text": [
      "[<pyorient.otypes.OrientRecord object at 0x7f1e4e859310>]\n"
     ]
    }
   ],
   "source": [
    "\n",
    "\n",
    "vertex_content = {\n",
    "    \"name\": \"Zeus\",\n",
    "    \"symbol\": \"thunder\"\n",
    "}\n",
    "\n",
    "result = client.command(f\"CREATE VERTEX Greekdeities CONTENT {vertex_content}\")\n",
    "\n",
    "print(result)"
   ]
  },
  {
   "cell_type": "markdown",
   "metadata": {},
   "source": [
    "You have created a VERTEX in the previous question. The VERTEX is a [class](https://orientdb.com/docs/last/Tutorial-Classes.html) of OrientDB which defines a record that can be linked to others through EDGE instances.\n",
    "\n",
    "You can find all VERTEX created in the database with a SQL command on the `V` table, like `SELECT * FROM V`. \n",
    "\n",
    "**Q:** Print all current vertices in `gods`, it should only have `Zeus` though for now."
   ]
  },
  {
   "cell_type": "code",
   "execution_count": 9,
   "metadata": {},
   "outputs": [
    {
     "name": "stdout",
     "output_type": "stream",
     "text": [
      "{'@Greekdeities':{'in_relationship': <pyorient.otypes.OrientBinaryObject object at 0x7f17e021ec90>, 'out_relationship': <pyorient.otypes.OrientBinaryObject object at 0x7f17e021f710>, 'out_': <pyorient.otypes.OrientBinaryObject object at 0x7f17c6375bd0>, 'name': 'Zeus', 'symbol': 'thunder'},'version':27,'rid':'#33:0'}\n",
      "{'@Greekdeities':{'out_relationship': <pyorient.otypes.OrientBinaryObject object at 0x7f17c6376fd0>, 'in_relationship': <pyorient.otypes.OrientBinaryObject object at 0x7f17c6377110>, 'name': 'Héra', 'symbol': 'tiara'},'version':10,'rid':'#34:0'}\n",
      "{'@Greekdeities':{'out_relationship': <pyorient.otypes.OrientBinaryObject object at 0x7f17c6380610>, 'in_relationship': <pyorient.otypes.OrientBinaryObject object at 0x7f17c63805d0>, 'in_': <pyorient.otypes.OrientBinaryObject object at 0x7f17c63808d0>, 'name': 'Poséidon', 'symbol': 'trident'},'version':15,'rid':'#35:0'}\n",
      "{'@Greekdeities':{'in_relationship': <pyorient.otypes.OrientBinaryObject object at 0x7f17c6380c10>, 'name': 'Athena', 'symbol': 'helmet'},'version':4,'rid':'#36:0'}\n",
      "{'@Greekdeities':{'in_relationship': <pyorient.otypes.OrientBinaryObject object at 0x7f17c6380e90>, 'name': 'Arès', 'symbol': 'weapons'},'version':8,'rid':'#37:0'}\n",
      "{'@Greekdeities':{'name': 'Zeus', 'symbol': 'thunder'},'version':1,'rid':'#38:0'}\n"
     ]
    }
   ],
   "source": [
    "query = \"SELECT * FROM V\"\n",
    "result = client.query(query)\n",
    "\n",
    "# Print the result\n",
    "for record in result:\n",
    "    print(record)"
   ]
  },
  {
   "cell_type": "markdown",
   "metadata": {},
   "source": [
    "**Q:** Create new vertices with content : \n",
    "```\n",
    "{name:Héra, symbol:tiara}\n",
    "{name:Poséidon, symbol:trident}\n",
    "{name:Athena, symbol:helmet}\n",
    "{name:Arès, symbol:weapons} \n",
    "```"
   ]
  },
  {
   "cell_type": "code",
   "execution_count": 24,
   "metadata": {},
   "outputs": [],
   "source": [
    "vertices_content = [\n",
    "    {\"name\": \"Héra\", \"symbol\": \"tiara\"},\n",
    "    {\"name\": \"Poséidon\", \"symbol\": \"trident\"},\n",
    "    {\"name\": \"Athena\", \"symbol\": \"helmet\"},\n",
    "    {\"name\": \"Arès\", \"symbol\": \"weapons\"}\n",
    "]\n",
    "\n",
    "for content in vertices_content:\n",
    "    query = f\"CREATE VERTEX Greekdeities CONTENT {content}\"\n",
    "    result = client.command(query)"
   ]
  },
  {
   "cell_type": "markdown",
   "metadata": {},
   "source": [
    "**Q:** Display all vertices with name = `Arès`"
   ]
  },
  {
   "cell_type": "code",
   "execution_count": 9,
   "metadata": {},
   "outputs": [
    {
     "name": "stdout",
     "output_type": "stream",
     "text": [
      "{'@Greekdeities':{'in_relationship': <pyorient.otypes.OrientBinaryObject object at 0x7f1e4e858ed0>, 'name': 'Arès', 'symbol': 'weapons'},'version':8,'rid':'#37:0'}\n"
     ]
    }
   ],
   "source": [
    "query = \"SELECT * FROM V WHERE name = 'Arès'\"\n",
    "result = client.query(query)\n",
    "\n",
    "for record in result:\n",
    "    print(record)"
   ]
  },
  {
   "cell_type": "markdown",
   "metadata": {},
   "source": [
    "**Q:** Create an EDGE from `Zeus` to `Poséidon` with the content `{kind: 'sibling'}"
   ]
  },
  {
   "cell_type": "code",
   "execution_count": 10,
   "metadata": {},
   "outputs": [
    {
     "ename": "PyOrientSchemaException",
     "evalue": "com.orientechnologies.orient.core.exception.OSchemaException - Class 'relationship' already exists in current database\r\n\tDB name=\"gods\"",
     "output_type": "error",
     "traceback": [
      "\u001b[0;31m---------------------------------------------------------------------------\u001b[0m",
      "\u001b[0;31mPyOrientSchemaException\u001b[0m                   Traceback (most recent call last)",
      "Cell \u001b[0;32mIn[10], line 1\u001b[0m\n\u001b[0;32m----> 1\u001b[0m \u001b[43mclient\u001b[49m\u001b[38;5;241;43m.\u001b[39;49m\u001b[43mcommand\u001b[49m\u001b[43m(\u001b[49m\u001b[38;5;124;43m\"\u001b[39;49m\u001b[38;5;124;43mCREATE CLASS relationship EXTENDS E\u001b[39;49m\u001b[38;5;124;43m\"\u001b[39;49m\u001b[43m)\u001b[49m\n",
      "File \u001b[0;32m/opt/conda/lib/python3.11/site-packages/pyorient/orient.py:462\u001b[0m, in \u001b[0;36mOrientDB.command\u001b[0;34m(self, *args)\u001b[0m\n\u001b[1;32m    460\u001b[0m \u001b[38;5;28;01mdef\u001b[39;00m \u001b[38;5;21mcommand\u001b[39m(\u001b[38;5;28mself\u001b[39m, \u001b[38;5;241m*\u001b[39margs):\n\u001b[1;32m    461\u001b[0m     \u001b[38;5;28;01mreturn\u001b[39;00m \u001b[38;5;28;43mself\u001b[39;49m\u001b[38;5;241;43m.\u001b[39;49m\u001b[43mget_message\u001b[49m\u001b[43m(\u001b[49m\u001b[38;5;124;43m\"\u001b[39;49m\u001b[38;5;124;43mCommandMessage\u001b[39;49m\u001b[38;5;124;43m\"\u001b[39;49m\u001b[43m)\u001b[49m\u001b[43m \u001b[49m\u001b[43m\\\u001b[49m\n\u001b[0;32m--> 462\u001b[0m \u001b[43m        \u001b[49m\u001b[38;5;241;43m.\u001b[39;49m\u001b[43mprepare\u001b[49m\u001b[43m(\u001b[49m\u001b[43m(\u001b[49m\u001b[43m \u001b[49m\u001b[43mQUERY_CMD\u001b[49m\u001b[43m,\u001b[49m\u001b[43m \u001b[49m\u001b[43m)\u001b[49m\u001b[43m \u001b[49m\u001b[38;5;241;43m+\u001b[39;49m\u001b[43m \u001b[49m\u001b[43margs\u001b[49m\u001b[43m)\u001b[49m\u001b[38;5;241;43m.\u001b[39;49m\u001b[43msend\u001b[49m\u001b[43m(\u001b[49m\u001b[43m)\u001b[49m\u001b[38;5;241;43m.\u001b[39;49m\u001b[43mfetch_response\u001b[49m\u001b[43m(\u001b[49m\u001b[43m)\u001b[49m\n",
      "File \u001b[0;32m/opt/conda/lib/python3.11/site-packages/pyorient/messages/commands.py:144\u001b[0m, in \u001b[0;36mCommandMessage.fetch_response\u001b[0;34m(self)\u001b[0m\n\u001b[1;32m    141\u001b[0m     \u001b[38;5;28;01mreturn\u001b[39;00m \u001b[38;5;28mself\u001b[39m\n\u001b[1;32m    143\u001b[0m \u001b[38;5;66;03m# decode header only\u001b[39;00m\n\u001b[0;32m--> 144\u001b[0m \u001b[38;5;28;43msuper\u001b[39;49m\u001b[43m(\u001b[49m\u001b[43m \u001b[49m\u001b[43mCommandMessage\u001b[49m\u001b[43m,\u001b[49m\u001b[43m \u001b[49m\u001b[38;5;28;43mself\u001b[39;49m\u001b[43m \u001b[49m\u001b[43m)\u001b[49m\u001b[38;5;241;43m.\u001b[39;49m\u001b[43mfetch_response\u001b[49m\u001b[43m(\u001b[49m\u001b[43m)\u001b[49m\n\u001b[1;32m    146\u001b[0m \u001b[38;5;28;01mif\u001b[39;00m \u001b[38;5;28mself\u001b[39m\u001b[38;5;241m.\u001b[39m_command_type \u001b[38;5;241m==\u001b[39m QUERY_ASYNC:\n\u001b[1;32m    147\u001b[0m     \u001b[38;5;28mself\u001b[39m\u001b[38;5;241m.\u001b[39m_read_async_records()\n",
      "File \u001b[0;32m/opt/conda/lib/python3.11/site-packages/pyorient/messages/base.py:265\u001b[0m, in \u001b[0;36mBaseMessage.fetch_response\u001b[0;34m(self, *_continue)\u001b[0m\n\u001b[1;32m    263\u001b[0m \u001b[38;5;66;03m# already fetched, get last results as cache info\u001b[39;00m\n\u001b[1;32m    264\u001b[0m \u001b[38;5;28;01melif\u001b[39;00m \u001b[38;5;28mlen\u001b[39m(\u001b[38;5;28mself\u001b[39m\u001b[38;5;241m.\u001b[39m_body) \u001b[38;5;129;01mis\u001b[39;00m \u001b[38;5;241m0\u001b[39m:\n\u001b[0;32m--> 265\u001b[0m     \u001b[38;5;28;43mself\u001b[39;49m\u001b[38;5;241;43m.\u001b[39;49m\u001b[43m_decode_all\u001b[49m\u001b[43m(\u001b[49m\u001b[43m)\u001b[49m\n\u001b[1;32m    266\u001b[0m     \u001b[38;5;28mself\u001b[39m\u001b[38;5;241m.\u001b[39mdump_streams()\n\u001b[1;32m    267\u001b[0m \u001b[38;5;28;01mreturn\u001b[39;00m \u001b[38;5;28mself\u001b[39m\u001b[38;5;241m.\u001b[39m_body\n",
      "File \u001b[0;32m/opt/conda/lib/python3.11/site-packages/pyorient/messages/base.py:249\u001b[0m, in \u001b[0;36mBaseMessage._decode_all\u001b[0;34m(self)\u001b[0m\n\u001b[1;32m    248\u001b[0m \u001b[38;5;28;01mdef\u001b[39;00m \u001b[38;5;21m_decode_all\u001b[39m(\u001b[38;5;28mself\u001b[39m):\n\u001b[0;32m--> 249\u001b[0m     \u001b[38;5;28;43mself\u001b[39;49m\u001b[38;5;241;43m.\u001b[39;49m\u001b[43m_decode_header\u001b[49m\u001b[43m(\u001b[49m\u001b[43m)\u001b[49m\n\u001b[1;32m    250\u001b[0m     \u001b[38;5;28mself\u001b[39m\u001b[38;5;241m.\u001b[39m_decode_body()\n",
      "File \u001b[0;32m/opt/conda/lib/python3.11/site-packages/pyorient/messages/base.py:180\u001b[0m, in \u001b[0;36mBaseMessage._decode_header\u001b[0;34m(self)\u001b[0m\n\u001b[1;32m    177\u001b[0m             \u001b[38;5;66;03m# trash\u001b[39;00m\n\u001b[1;32m    178\u001b[0m             \u001b[38;5;28;01mdel\u001b[39;00m serialized_exception\n\u001b[0;32m--> 180\u001b[0m     \u001b[38;5;28;01mraise\u001b[39;00m PyOrientCommandException(\n\u001b[1;32m    181\u001b[0m         exception_class\u001b[38;5;241m.\u001b[39mdecode( \u001b[38;5;124m'\u001b[39m\u001b[38;5;124mutf8\u001b[39m\u001b[38;5;124m'\u001b[39m ),\n\u001b[1;32m    182\u001b[0m         [ exception_message\u001b[38;5;241m.\u001b[39mdecode( \u001b[38;5;124m'\u001b[39m\u001b[38;5;124mutf8\u001b[39m\u001b[38;5;124m'\u001b[39m ) ]\n\u001b[1;32m    183\u001b[0m     )\n\u001b[1;32m    185\u001b[0m \u001b[38;5;28;01melif\u001b[39;00m \u001b[38;5;28mself\u001b[39m\u001b[38;5;241m.\u001b[39m_header[\u001b[38;5;241m0\u001b[39m] \u001b[38;5;241m==\u001b[39m \u001b[38;5;241m3\u001b[39m:\n\u001b[1;32m    186\u001b[0m     \u001b[38;5;66;03m# Push notification, Node cluster changed\u001b[39;00m\n\u001b[1;32m    187\u001b[0m     \u001b[38;5;66;03m# TODO: UNTESTED CODE!!!\u001b[39;00m\n\u001b[1;32m    188\u001b[0m     \u001b[38;5;66;03m# FIELD_BYTE (OChannelBinaryProtocol.PUSH_DATA);  # WRITE 3\u001b[39;00m\n\u001b[1;32m    189\u001b[0m     \u001b[38;5;66;03m# FIELD_INT (Integer.MIN_VALUE);  # SESSION ID = 2^-31\u001b[39;00m\n\u001b[1;32m    190\u001b[0m     \u001b[38;5;66;03m# 80: \\x50 Request Push 1 byte: Push command id\u001b[39;00m\n\u001b[1;32m    191\u001b[0m     push_command_id \u001b[38;5;241m=\u001b[39m \u001b[38;5;28mself\u001b[39m\u001b[38;5;241m.\u001b[39m_decode_field(FIELD_BYTE)\n",
      "\u001b[0;31mPyOrientSchemaException\u001b[0m: com.orientechnologies.orient.core.exception.OSchemaException - Class 'relationship' already exists in current database\r\n\tDB name=\"gods\""
     ]
    }
   ],
   "source": [
    "client.command(\"CREATE CLASS relationship EXTENDS E\")"
   ]
  },
  {
   "cell_type": "code",
   "execution_count": 61,
   "metadata": {},
   "outputs": [],
   "source": [
    "\n",
    "edge_content = {\n",
    "    \"kind\": \"sibling\"\n",
    "}\n",
    "\n",
    "create_edge_query = f\"CREATE EDGE relationship FROM (SELECT * FROM V WHERE name = 'Zeus') TO (SELECT * FROM V WHERE name = 'Poséidon') CONTENT {edge_content}\"\n",
    "result_edge = client.command(create_edge_query)"
   ]
  },
  {
   "cell_type": "markdown",
   "metadata": {},
   "source": [
    "**Q:** Redisplay all vertices, discuss."
   ]
  },
  {
   "cell_type": "code",
   "execution_count": 11,
   "metadata": {},
   "outputs": [
    {
     "name": "stdout",
     "output_type": "stream",
     "text": [
      "{'@Greekdeities':{'in_relationship': <pyorient.otypes.OrientBinaryObject object at 0x7f1e4e8f8e90>, 'out_relationship': <pyorient.otypes.OrientBinaryObject object at 0x7f1e4e8f9050>, 'out_': <pyorient.otypes.OrientBinaryObject object at 0x7f1e4e8f96d0>, 'name': 'Zeus', 'symbol': 'thunder'},'version':27,'rid':'#33:0'}\n",
      "{'@Greekdeities':{'out_relationship': <pyorient.otypes.OrientBinaryObject object at 0x7f1e4e8f1c90>, 'in_relationship': <pyorient.otypes.OrientBinaryObject object at 0x7f1e4e8f1110>, 'name': 'Héra', 'symbol': 'tiara'},'version':10,'rid':'#34:0'}\n",
      "{'@Greekdeities':{'out_relationship': <pyorient.otypes.OrientBinaryObject object at 0x7f1e4e8f3290>, 'in_relationship': <pyorient.otypes.OrientBinaryObject object at 0x7f1e4e8f2150>, 'in_': <pyorient.otypes.OrientBinaryObject object at 0x7f1e4e8f3a10>, 'name': 'Poséidon', 'symbol': 'trident'},'version':15,'rid':'#35:0'}\n",
      "{'@Greekdeities':{'in_relationship': <pyorient.otypes.OrientBinaryObject object at 0x7f1e4e8f2e50>, 'name': 'Athena', 'symbol': 'helmet'},'version':4,'rid':'#36:0'}\n",
      "{'@Greekdeities':{'in_relationship': <pyorient.otypes.OrientBinaryObject object at 0x7f1e4e8f3f10>, 'name': 'Arès', 'symbol': 'weapons'},'version':8,'rid':'#37:0'}\n",
      "{'@Greekdeities':{'name': 'Zeus', 'symbol': 'thunder'},'version':1,'rid':'#38:0'}\n"
     ]
    }
   ],
   "source": [
    "query = \"SELECT * FROM V\"\n",
    "result = client.query(query)\n",
    "\n",
    "for record in result:\n",
    "    print(record)"
   ]
  },
  {
   "cell_type": "markdown",
   "metadata": {},
   "source": [
    "**Q:** Display all edges. They are contained in the class `E`"
   ]
  },
  {
   "cell_type": "code",
   "execution_count": 33,
   "metadata": {},
   "outputs": [
    {
     "name": "stdout",
     "output_type": "stream",
     "text": [
      "{'@relationship':{'kind': 'sibling', 'out': <pyorient.otypes.OrientRecordLink object at 0x7f1e4e462990>, 'in': <pyorient.otypes.OrientRecordLink object at 0x7f1e4e4632d0>},'version':1,'rid':'#45:0'}\n",
      "{'@relationship':{'kind': 'sibling', 'out': <pyorient.otypes.OrientRecordLink object at 0x7f1e4e460490>, 'in': <pyorient.otypes.OrientRecordLink object at 0x7f1e4e461310>},'version':1,'rid':'#46:0'}\n",
      "{'@relationship':{'kind': 'father', 'out': <pyorient.otypes.OrientRecordLink object at 0x7f1e4e461a10>, 'in': <pyorient.otypes.OrientRecordLink object at 0x7f1e4e462410>},'version':1,'rid':'#47:0'}\n",
      "{'@relationship':{'kind': 'father', 'out': <pyorient.otypes.OrientRecordLink object at 0x7f1e4e462190>, 'in': <pyorient.otypes.OrientRecordLink object at 0x7f1e4e4626d0>},'version':1,'rid':'#48:0'}\n",
      "{'@relationship':{'kind': 'mother', 'out': <pyorient.otypes.OrientRecordLink object at 0x7f1e4e462c10>, 'in': <pyorient.otypes.OrientRecordLink object at 0x7f1e4e462350>},'version':1,'rid':'#49:0'}\n",
      "{'@relationship':{'kind': 'sibling', 'out': <pyorient.otypes.OrientRecordLink object at 0x7f1e4e462f50>, 'in': <pyorient.otypes.OrientRecordLink object at 0x7f1e4e463290>},'version':1,'rid':'#50:0'}\n",
      "{'@relationship':{'kind': 'sibling', 'out': <pyorient.otypes.OrientRecordLink object at 0x7f1e4e463990>, 'in': <pyorient.otypes.OrientRecordLink object at 0x7f1e4e460590>},'version':1,'rid':'#51:0'}\n"
     ]
    }
   ],
   "source": [
    "query = \"SELECT * FROM E\"\n",
    "result = client.query(query)\n",
    "\n",
    "for record in result:\n",
    "    print(record)"
   ]
  },
  {
   "cell_type": "markdown",
   "metadata": {},
   "source": [
    "Two fields on vertices have appeared, containing the outgoing (out_) and incoming (in_) links.\n",
    "\n",
    "At the edge level, two fields point to the original (out) and destination (in) vertices.\n",
    "\n",
    "**Q:** Lets create some more edges :\n",
    "\n",
    "* Zeus > Héra (sibling)\n",
    "* Zeus > Arès (father)\n",
    "* Zeus > Athena (father)\n",
    "* Héra > Arès (mother)\n",
    "* Héra > Zeus (sibling)\n",
    "* Poséidon > Zeus (sibling)\n",
    "\n",
    "_Hint 1 :_ check [the CREATE EDGE doc page](http://orientdb.com/docs/last/SQL-Create-Edge.html) to find an example for creating edges on vertices using subqueries so you can run queries to fetch the vertices before creating an edge in between.\n",
    "\n",
    "_Hint 2 :_ after you have found the command to create edges between vertices with sub-queries, you should be well-versed enough in Python to create a list of all edges in the question, and loop the command on each element of the list to create all edges in one go =)"
   ]
  },
  {
   "cell_type": "code",
   "execution_count": 64,
   "metadata": {},
   "outputs": [],
   "source": [
    "def create_edge(name1, name2, edge_content):\n",
    "    create_edge_query = f\"CREATE EDGE relationship FROM (SELECT * FROM V WHERE name = '{name1}') TO (SELECT * FROM V WHERE name = '{name2}') CONTENT {edge_content}\"\n",
    "    print(create_edge_query)\n",
    "    result_edge = client.command(create_edge_query)\n"
   ]
  },
  {
   "cell_type": "code",
   "execution_count": 65,
   "metadata": {},
   "outputs": [],
   "source": [
    "edge_create = [\n",
    "    {\"kind\": \"sibling\"},\n",
    "    {\"kind\": \"father\"},\n",
    "    {\"kind\": \"father\"},\n",
    "    {\"kind\": \"mother\"},\n",
    "    {\"kind\": \"sibling\"},\n",
    "    {\"kind\": \"sibling\"}\n",
    "]\n",
    "name1 = ['Zeus', 'Zeus', 'Zeus', 'Héra', 'Héra', 'Poséidon']\n",
    "name2 = ['Héra', 'Arès', 'Athena', 'Arès', 'Zeus', 'Zeus']"
   ]
  },
  {
   "cell_type": "code",
   "execution_count": 49,
   "metadata": {},
   "outputs": [
    {
     "data": {
      "text/plain": [
       "'Zeus'"
      ]
     },
     "execution_count": 49,
     "metadata": {},
     "output_type": "execute_result"
    }
   ],
   "source": [
    "name1[i]"
   ]
  },
  {
   "cell_type": "code",
   "execution_count": 66,
   "metadata": {},
   "outputs": [
    {
     "name": "stdout",
     "output_type": "stream",
     "text": [
      "CREATE EDGE relationship FROM (SELECT * FROM V WHERE name = 'Zeus') TO (SELECT * FROM V WHERE name = 'Héra') CONTENT {'kind': 'sibling'}\n",
      "CREATE EDGE relationship FROM (SELECT * FROM V WHERE name = 'Zeus') TO (SELECT * FROM V WHERE name = 'Arès') CONTENT {'kind': 'father'}\n",
      "CREATE EDGE relationship FROM (SELECT * FROM V WHERE name = 'Zeus') TO (SELECT * FROM V WHERE name = 'Athena') CONTENT {'kind': 'father'}\n",
      "CREATE EDGE relationship FROM (SELECT * FROM V WHERE name = 'Héra') TO (SELECT * FROM V WHERE name = 'Arès') CONTENT {'kind': 'mother'}\n",
      "CREATE EDGE relationship FROM (SELECT * FROM V WHERE name = 'Héra') TO (SELECT * FROM V WHERE name = 'Zeus') CONTENT {'kind': 'sibling'}\n",
      "CREATE EDGE relationship FROM (SELECT * FROM V WHERE name = 'Poséidon') TO (SELECT * FROM V WHERE name = 'Zeus') CONTENT {'kind': 'sibling'}\n"
     ]
    }
   ],
   "source": [
    "for i in range(len(name1)):\n",
    "    create_edge(name1[i], name2[i], edge_create[i])"
   ]
  },
  {
   "cell_type": "markdown",
   "metadata": {},
   "source": [
    "### Looking for data"
   ]
  },
  {
   "cell_type": "markdown",
   "metadata": {},
   "source": [
    "**Q:** Using [out()](http://orientdb.com/docs/last/Tutorial-Working-with-graphs.html#querying-graphs) function, display all vertices connected and outgoing from Zeus.\n",
    "\n",
    "You should use the EXPAND() special function to transform the vertex collection in the result-set by expanding it, making the results more readable."
   ]
  },
  {
   "cell_type": "code",
   "execution_count": 23,
   "metadata": {},
   "outputs": [
    {
     "name": "stdout",
     "output_type": "stream",
     "text": [
      "{'@Greekdeities':{'out_relationship': <pyorient.otypes.OrientBinaryObject object at 0x7f1e4e709c50>, 'in_relationship': <pyorient.otypes.OrientBinaryObject object at 0x7f1e7094de10>, 'in_': <pyorient.otypes.OrientBinaryObject object at 0x7f1e7094f1d0>, 'name': 'Poséidon', 'symbol': 'trident'},'version':15,'rid':'#35:0'}\n",
      "{'@Greekdeities':{'out_relationship': <pyorient.otypes.OrientBinaryObject object at 0x7f1e4e581a50>, 'in_relationship': <pyorient.otypes.OrientBinaryObject object at 0x7f1e4e583550>, 'name': 'Héra', 'symbol': 'tiara'},'version':10,'rid':'#34:0'}\n",
      "{'@Greekdeities':{'in_relationship': <pyorient.otypes.OrientBinaryObject object at 0x7f1e4e582250>, 'name': 'Arès', 'symbol': 'weapons'},'version':8,'rid':'#37:0'}\n",
      "{'@Greekdeities':{'in_relationship': <pyorient.otypes.OrientBinaryObject object at 0x7f1e4e580d10>, 'name': 'Athena', 'symbol': 'helmet'},'version':4,'rid':'#36:0'}\n",
      "{'@Greekdeities':{'out_relationship': <pyorient.otypes.OrientBinaryObject object at 0x7f1e4e580bd0>, 'in_relationship': <pyorient.otypes.OrientBinaryObject object at 0x7f1e4e581d90>, 'name': 'Héra', 'symbol': 'tiara'},'version':10,'rid':'#34:0'}\n",
      "{'@Greekdeities':{'out_relationship': <pyorient.otypes.OrientBinaryObject object at 0x7f1e4e582550>, 'in_relationship': <pyorient.otypes.OrientBinaryObject object at 0x7f1e4e5835d0>, 'in_': <pyorient.otypes.OrientBinaryObject object at 0x7f1e4e583590>, 'name': 'Poséidon', 'symbol': 'trident'},'version':15,'rid':'#35:0'}\n"
     ]
    }
   ],
   "source": [
    "zeus_vertex = client.query(\"SELECT * FROM V WHERE name = 'Zeus'\")[0]\n",
    "\n",
    "query_outgoing = f\"SELECT EXPAND(out()) FROM {zeus_vertex._rid} LIMIT -1\"\n",
    "query_incoming = f\"SELECT EXPAND(in()) FROM {zeus_vertex._rid} LIMIT -1\"\n",
    "\n",
    "result_outgoing = client.query(query_outgoing)\n",
    "result_incoming = client.query(query_incoming)\n",
    "\n",
    "result_both = result_outgoing + result_incoming\n",
    "\n",
    "for record in result_both:\n",
    "    print(record)"
   ]
  },
  {
   "cell_type": "markdown",
   "metadata": {},
   "source": [
    "**Q:** Display all vertices which got a father (the vertices which are the destination of an arc whose kind attribute is father).\n",
    "\n",
    "_Hint: You can notice that we use the field `in` the arc, and not the function `in()` which applies to vertices._"
   ]
  },
  {
   "cell_type": "code",
   "execution_count": 41,
   "metadata": {},
   "outputs": [
    {
     "name": "stdout",
     "output_type": "stream",
     "text": [
      "{'@Greekdeities':{'in_relationship': <pyorient.otypes.OrientBinaryObject object at 0x7f1e4e454210>, 'name': 'Athena', 'symbol': 'helmet'},'version':4,'rid':'#36:0'}\n",
      "{'@Greekdeities':{'in_relationship': <pyorient.otypes.OrientBinaryObject object at 0x7f1e4e454690>, 'name': 'Arès', 'symbol': 'weapons'},'version':8,'rid':'#37:0'}\n"
     ]
    }
   ],
   "source": [
    "query_all_incoming_father = \"SELECT * FROM V WHERE @rid IN (SELECT EXPAND(in) FROM E WHERE kind = 'father' LIMIT -1)\"\n",
    "result_all_incoming_father = client.query(query_all_incoming_father)\n",
    "\n",
    "for record in result_all_incoming_father:\n",
    "    print(record)\n"
   ]
  },
  {
   "cell_type": "markdown",
   "metadata": {},
   "source": [
    "**Q:** As in SQL, the operator `in` used in a clause `where` allows to restrict the possible values with an embedded query _(where ... in (select ...))_. \n",
    "\n",
    "Display the mothers, by displaying the vertices where an outgoing arc is part of the arcs where kind is a mother."
   ]
  },
  {
   "cell_type": "code",
   "execution_count": 42,
   "metadata": {},
   "outputs": [
    {
     "name": "stdout",
     "output_type": "stream",
     "text": [
      "{'@Greekdeities':{'out_relationship': <pyorient.otypes.OrientBinaryObject object at 0x7f1e70950750>, 'in_relationship': <pyorient.otypes.OrientBinaryObject object at 0x7f1e4e7bb210>, 'name': 'Héra', 'symbol': 'tiara'},'version':10,'rid':'#34:0'}\n"
     ]
    }
   ],
   "source": [
    "query_all_outgoing_mother = \"SELECT * FROM V WHERE @rid IN (SELECT EXPAND(out) FROM E WHERE kind = 'mother' LIMIT -1)\"\n",
    "result_all_outgoing_mother = client.query(query_all_outgoing_mother)\n",
    "\n",
    "for record in result_all_outgoing_mother:\n",
    "    print(record)"
   ]
  },
  {
   "cell_type": "markdown",
   "metadata": {},
   "source": [
    "**Q:** Display the brothers and sisters of Zeus (the destination summits of an arc whose kind is sibling and whose original summit is Zeus)."
   ]
  },
  {
   "cell_type": "code",
   "execution_count": 16,
   "metadata": {},
   "outputs": [
    {
     "name": "stdout",
     "output_type": "stream",
     "text": [
      "{'@Greekdeities':{'name': 'Héra', 'out_relationship': <pyorient.otypes.OrientBinaryObject object at 0x7f17dc049e10>, 'in_relationship': <pyorient.otypes.OrientBinaryObject object at 0x7f17e0230690>, 'symbol': 'tiara'},'version':10,'rid':'#34:0'}\n",
      "{'@Greekdeities':{'name': 'Poséidon', 'out_relationship': <pyorient.otypes.OrientBinaryObject object at 0x7f17e0232610>, 'in_relationship': <pyorient.otypes.OrientBinaryObject object at 0x7f17e02324d0>, 'in_': <pyorient.otypes.OrientBinaryObject object at 0x7f17e0231310>, 'symbol': 'trident'},'version':15,'rid':'#35:0'}\n"
     ]
    }
   ],
   "source": [
    "query_siblings = \"SELECT * FROM V WHERE name != 'Zeus' AND @rid IN (SELECT EXPAND(in) FROM E WHERE kind = 'sibling' LIMIT -1)\"\n",
    "result_siblings = client.query(query_siblings)\n",
    "\n",
    "for record in result_siblings:\n",
    "    print(record)"
   ]
  },
  {
   "cell_type": "code",
   "execution_count": 41,
   "metadata": {},
   "outputs": [
    {
     "ename": "PyOrientSQLParsingException",
     "evalue": "com.orientechnologies.orient.core.sql.OCommandSQLParsingException - Error parsing query:\nSELECT EXPAND(in) FROM E WHERE kind = 'sibling' AND IN (SELECT * FROM V name = 'Zeus')\n                                                     ^\nEncountered \"\" at line 1, column 53.\nWas expecting one of:\n    \r\n\tDB name=\"gods\"",
     "output_type": "error",
     "traceback": [
      "\u001b[0;31m---------------------------------------------------------------------------\u001b[0m",
      "\u001b[0;31mPyOrientSQLParsingException\u001b[0m               Traceback (most recent call last)",
      "Cell \u001b[0;32mIn[41], line 2\u001b[0m\n\u001b[1;32m      1\u001b[0m query_siblings \u001b[38;5;241m=\u001b[39m \u001b[38;5;124m\"\u001b[39m\u001b[38;5;124mSELECT EXPAND(in) FROM E WHERE kind = \u001b[39m\u001b[38;5;124m'\u001b[39m\u001b[38;5;124msibling\u001b[39m\u001b[38;5;124m'\u001b[39m\u001b[38;5;124m AND IN (SELECT * FROM V name = \u001b[39m\u001b[38;5;124m'\u001b[39m\u001b[38;5;124mZeus\u001b[39m\u001b[38;5;124m'\u001b[39m\u001b[38;5;124m)\u001b[39m\u001b[38;5;124m\"\u001b[39m\n\u001b[0;32m----> 2\u001b[0m result_siblings \u001b[38;5;241m=\u001b[39m \u001b[43mclient\u001b[49m\u001b[38;5;241;43m.\u001b[39;49m\u001b[43mquery\u001b[49m\u001b[43m(\u001b[49m\u001b[43mquery_siblings\u001b[49m\u001b[43m)\u001b[49m\n\u001b[1;32m      4\u001b[0m \u001b[38;5;28;01mfor\u001b[39;00m record \u001b[38;5;129;01min\u001b[39;00m result_siblings:\n\u001b[1;32m      5\u001b[0m     \u001b[38;5;28mprint\u001b[39m(record)\n",
      "File \u001b[0;32m/opt/conda/lib/python3.11/site-packages/pyorient/orient.py:470\u001b[0m, in \u001b[0;36mOrientDB.query\u001b[0;34m(self, *args)\u001b[0m\n\u001b[1;32m    468\u001b[0m \u001b[38;5;28;01mdef\u001b[39;00m \u001b[38;5;21mquery\u001b[39m(\u001b[38;5;28mself\u001b[39m, \u001b[38;5;241m*\u001b[39margs):\n\u001b[1;32m    469\u001b[0m     \u001b[38;5;28;01mreturn\u001b[39;00m \u001b[38;5;28;43mself\u001b[39;49m\u001b[38;5;241;43m.\u001b[39;49m\u001b[43mget_message\u001b[49m\u001b[43m(\u001b[49m\u001b[38;5;124;43m\"\u001b[39;49m\u001b[38;5;124;43mCommandMessage\u001b[39;49m\u001b[38;5;124;43m\"\u001b[39;49m\u001b[43m)\u001b[49m\u001b[43m \u001b[49m\u001b[43m\\\u001b[49m\n\u001b[0;32m--> 470\u001b[0m \u001b[43m        \u001b[49m\u001b[38;5;241;43m.\u001b[39;49m\u001b[43mprepare\u001b[49m\u001b[43m(\u001b[49m\u001b[43m(\u001b[49m\u001b[43m \u001b[49m\u001b[43mQUERY_SYNC\u001b[49m\u001b[43m,\u001b[49m\u001b[43m \u001b[49m\u001b[43m)\u001b[49m\u001b[43m \u001b[49m\u001b[38;5;241;43m+\u001b[39;49m\u001b[43m \u001b[49m\u001b[43margs\u001b[49m\u001b[43m)\u001b[49m\u001b[38;5;241;43m.\u001b[39;49m\u001b[43msend\u001b[49m\u001b[43m(\u001b[49m\u001b[43m)\u001b[49m\u001b[38;5;241;43m.\u001b[39;49m\u001b[43mfetch_response\u001b[49m\u001b[43m(\u001b[49m\u001b[43m)\u001b[49m\n",
      "File \u001b[0;32m/opt/conda/lib/python3.11/site-packages/pyorient/messages/commands.py:144\u001b[0m, in \u001b[0;36mCommandMessage.fetch_response\u001b[0;34m(self)\u001b[0m\n\u001b[1;32m    141\u001b[0m     \u001b[38;5;28;01mreturn\u001b[39;00m \u001b[38;5;28mself\u001b[39m\n\u001b[1;32m    143\u001b[0m \u001b[38;5;66;03m# decode header only\u001b[39;00m\n\u001b[0;32m--> 144\u001b[0m \u001b[38;5;28;43msuper\u001b[39;49m\u001b[43m(\u001b[49m\u001b[43m \u001b[49m\u001b[43mCommandMessage\u001b[49m\u001b[43m,\u001b[49m\u001b[43m \u001b[49m\u001b[38;5;28;43mself\u001b[39;49m\u001b[43m \u001b[49m\u001b[43m)\u001b[49m\u001b[38;5;241;43m.\u001b[39;49m\u001b[43mfetch_response\u001b[49m\u001b[43m(\u001b[49m\u001b[43m)\u001b[49m\n\u001b[1;32m    146\u001b[0m \u001b[38;5;28;01mif\u001b[39;00m \u001b[38;5;28mself\u001b[39m\u001b[38;5;241m.\u001b[39m_command_type \u001b[38;5;241m==\u001b[39m QUERY_ASYNC:\n\u001b[1;32m    147\u001b[0m     \u001b[38;5;28mself\u001b[39m\u001b[38;5;241m.\u001b[39m_read_async_records()\n",
      "File \u001b[0;32m/opt/conda/lib/python3.11/site-packages/pyorient/messages/base.py:265\u001b[0m, in \u001b[0;36mBaseMessage.fetch_response\u001b[0;34m(self, *_continue)\u001b[0m\n\u001b[1;32m    263\u001b[0m \u001b[38;5;66;03m# already fetched, get last results as cache info\u001b[39;00m\n\u001b[1;32m    264\u001b[0m \u001b[38;5;28;01melif\u001b[39;00m \u001b[38;5;28mlen\u001b[39m(\u001b[38;5;28mself\u001b[39m\u001b[38;5;241m.\u001b[39m_body) \u001b[38;5;129;01mis\u001b[39;00m \u001b[38;5;241m0\u001b[39m:\n\u001b[0;32m--> 265\u001b[0m     \u001b[38;5;28;43mself\u001b[39;49m\u001b[38;5;241;43m.\u001b[39;49m\u001b[43m_decode_all\u001b[49m\u001b[43m(\u001b[49m\u001b[43m)\u001b[49m\n\u001b[1;32m    266\u001b[0m     \u001b[38;5;28mself\u001b[39m\u001b[38;5;241m.\u001b[39mdump_streams()\n\u001b[1;32m    267\u001b[0m \u001b[38;5;28;01mreturn\u001b[39;00m \u001b[38;5;28mself\u001b[39m\u001b[38;5;241m.\u001b[39m_body\n",
      "File \u001b[0;32m/opt/conda/lib/python3.11/site-packages/pyorient/messages/base.py:249\u001b[0m, in \u001b[0;36mBaseMessage._decode_all\u001b[0;34m(self)\u001b[0m\n\u001b[1;32m    248\u001b[0m \u001b[38;5;28;01mdef\u001b[39;00m \u001b[38;5;21m_decode_all\u001b[39m(\u001b[38;5;28mself\u001b[39m):\n\u001b[0;32m--> 249\u001b[0m     \u001b[38;5;28;43mself\u001b[39;49m\u001b[38;5;241;43m.\u001b[39;49m\u001b[43m_decode_header\u001b[49m\u001b[43m(\u001b[49m\u001b[43m)\u001b[49m\n\u001b[1;32m    250\u001b[0m     \u001b[38;5;28mself\u001b[39m\u001b[38;5;241m.\u001b[39m_decode_body()\n",
      "File \u001b[0;32m/opt/conda/lib/python3.11/site-packages/pyorient/messages/base.py:180\u001b[0m, in \u001b[0;36mBaseMessage._decode_header\u001b[0;34m(self)\u001b[0m\n\u001b[1;32m    177\u001b[0m             \u001b[38;5;66;03m# trash\u001b[39;00m\n\u001b[1;32m    178\u001b[0m             \u001b[38;5;28;01mdel\u001b[39;00m serialized_exception\n\u001b[0;32m--> 180\u001b[0m     \u001b[38;5;28;01mraise\u001b[39;00m PyOrientCommandException(\n\u001b[1;32m    181\u001b[0m         exception_class\u001b[38;5;241m.\u001b[39mdecode( \u001b[38;5;124m'\u001b[39m\u001b[38;5;124mutf8\u001b[39m\u001b[38;5;124m'\u001b[39m ),\n\u001b[1;32m    182\u001b[0m         [ exception_message\u001b[38;5;241m.\u001b[39mdecode( \u001b[38;5;124m'\u001b[39m\u001b[38;5;124mutf8\u001b[39m\u001b[38;5;124m'\u001b[39m ) ]\n\u001b[1;32m    183\u001b[0m     )\n\u001b[1;32m    185\u001b[0m \u001b[38;5;28;01melif\u001b[39;00m \u001b[38;5;28mself\u001b[39m\u001b[38;5;241m.\u001b[39m_header[\u001b[38;5;241m0\u001b[39m] \u001b[38;5;241m==\u001b[39m \u001b[38;5;241m3\u001b[39m:\n\u001b[1;32m    186\u001b[0m     \u001b[38;5;66;03m# Push notification, Node cluster changed\u001b[39;00m\n\u001b[1;32m    187\u001b[0m     \u001b[38;5;66;03m# TODO: UNTESTED CODE!!!\u001b[39;00m\n\u001b[1;32m    188\u001b[0m     \u001b[38;5;66;03m# FIELD_BYTE (OChannelBinaryProtocol.PUSH_DATA);  # WRITE 3\u001b[39;00m\n\u001b[1;32m    189\u001b[0m     \u001b[38;5;66;03m# FIELD_INT (Integer.MIN_VALUE);  # SESSION ID = 2^-31\u001b[39;00m\n\u001b[1;32m    190\u001b[0m     \u001b[38;5;66;03m# 80: \\x50 Request Push 1 byte: Push command id\u001b[39;00m\n\u001b[1;32m    191\u001b[0m     push_command_id \u001b[38;5;241m=\u001b[39m \u001b[38;5;28mself\u001b[39m\u001b[38;5;241m.\u001b[39m_decode_field(FIELD_BYTE)\n",
      "\u001b[0;31mPyOrientSQLParsingException\u001b[0m: com.orientechnologies.orient.core.sql.OCommandSQLParsingException - Error parsing query:\nSELECT EXPAND(in) FROM E WHERE kind = 'sibling' AND IN (SELECT * FROM V name = 'Zeus')\n                                                     ^\nEncountered \"\" at line 1, column 53.\nWas expecting one of:\n    \r\n\tDB name=\"gods\""
     ]
    }
   ],
   "source": [
    "query_siblings = \"SELECT EXPAND(in) FROM E WHERE kind = 'sibling' AND out IN (SELECT * FROM V name = 'Zeus')\"\n",
    "result_siblings = client.query(query_siblings)\n",
    "\n",
    "for record in result_siblings:\n",
    "    print(record)"
   ]
  },
  {
   "cell_type": "markdown",
   "metadata": {},
   "source": [
    "## Modeling a Product Recommendation System"
   ]
  },
  {
   "cell_type": "markdown",
   "metadata": {},
   "source": [
    "You are currently modeling the data of a product recommendation system with OrientDB.\n",
    "\n",
    "The main purpose of such a system is to answer the question \"which products were purchased by their people who purchased product X? »\n",
    "\n",
    "Purchased products have only one name field. They are purchased by people who have a nickname.\n",
    "\n",
    "When a person buys a product, the date of purchase is stored. \n",
    "\n",
    "Instead of working with \"anonymous\" vertices and arcs, you will use classes. The `create class` command allows you to create custom classes.\n",
    "\n",
    "The vertex classes must extend V, the arc classes must extend E."
   ]
  },
  {
   "cell_type": "markdown",
   "metadata": {},
   "source": [
    "**Q:** Create an `eCommerce` database, and the necessary classes to model the system.\n",
    "\n",
    "PS : you can view all classes in the database with :\n",
    "\n",
    "```python\n",
    "for name in client.command(\"SELECT name FROM (SELECT expand(classes) FROM metadata:schema)\"):\n",
    "    print(name)\n",
    "```"
   ]
  },
  {
   "cell_type": "code",
   "execution_count": null,
   "metadata": {},
   "outputs": [],
   "source": []
  },
  {
   "cell_type": "markdown",
   "metadata": {},
   "source": [
    "**Q:** Create the following products: `spaghetti`, `bolognese sauce`, `cheese`, `apple`."
   ]
  },
  {
   "cell_type": "code",
   "execution_count": null,
   "metadata": {},
   "outputs": [],
   "source": []
  },
  {
   "cell_type": "markdown",
   "metadata": {},
   "source": [
    "**Q:** Create the following people: `peter`, `meredith`."
   ]
  },
  {
   "cell_type": "code",
   "execution_count": null,
   "metadata": {},
   "outputs": [],
   "source": []
  },
  {
   "cell_type": "markdown",
   "metadata": {},
   "source": [
    "**Q:** Create the following purchases: \n",
    "- peter > spaghetti + cheese on 20/01/2016 \n",
    "- meredith > cheese + apple + bolognese sauce on 22/01/2016\n",
    "- peter > spaghetti + bolognese sauce on 27/01/2016\n"
   ]
  },
  {
   "cell_type": "code",
   "execution_count": null,
   "metadata": {},
   "outputs": [],
   "source": []
  },
  {
   "cell_type": "markdown",
   "metadata": {},
   "source": [
    "**Q:** Who bought Bolognese sauce?"
   ]
  },
  {
   "cell_type": "code",
   "execution_count": null,
   "metadata": {},
   "outputs": [],
   "source": []
  },
  {
   "cell_type": "markdown",
   "metadata": {},
   "source": [
    "**Q:** It is possible to link the `out` and `in` navigation functions. What products are purchased with Bolognese sauce? "
   ]
  },
  {
   "cell_type": "code",
   "execution_count": null,
   "metadata": {},
   "outputs": [],
   "source": []
  },
  {
   "cell_type": "markdown",
   "metadata": {},
   "source": [
    "## Postquisites"
   ]
  },
  {
   "cell_type": "markdown",
   "metadata": {},
   "source": [
    "Since we create databases in memory, they get destroyed on server shutdown."
   ]
  }
 ],
 "metadata": {
  "kernelspec": {
   "display_name": "Python 3 (ipykernel)",
   "language": "python",
   "name": "python3"
  },
  "language_info": {
   "codemirror_mode": {
    "name": "ipython",
    "version": 3
   },
   "file_extension": ".py",
   "mimetype": "text/x-python",
   "name": "python",
   "nbconvert_exporter": "python",
   "pygments_lexer": "ipython3",
   "version": "3.11.7"
  }
 },
 "nbformat": 4,
 "nbformat_minor": 4
}
